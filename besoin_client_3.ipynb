{
 "cells": [
  {
   "cell_type": "markdown",
   "id": "84262af5",
   "metadata": {},
   "source": [
    "1- Préparation des données"
   ]
  },
  {
   "cell_type": "code",
   "execution_count": null,
   "id": "90a5343e",
   "metadata": {},
   "outputs": [],
   "source": [
    "import pandas as pd \n",
    "import numpy as np\n",
    " \n",
    "#chargement de la base de données\n",
    "df= pd.read_csv(\"C:/Users/wague/Downloads/projetia/clean_IA.csv\", parse_dates=['BaseDateTime'])\n",
    "#parse_dates permet de convertir la colonne BaseDateTime en format datetime\n",
    "\n",
    "\n",
    "#Tri des données par date et par MMSI\n",
    "df = df.sort_values(by=['MMSI','BaseDateTime'])\n",
    "\n",
    "#Variables importantes: LAT,LON,SOG,COG, Heading, VesselType, Length, Draft\n",
    "#Variables dépendantes à prédire: LAT et LON\n",
    "targets = ['LAT', 'LON']\n",
    "#Variables explicatives: SOG, COG, Heading, potentiellement enrichi par: VesselType, Length, Draft\n",
    "features = ['SOG', 'COG', 'Heading']\n",
    "#Affichage des 15 premières lignes\n",
    "print(df.head(15))"
   ]
  },
  {
   "cell_type": "code",
   "execution_count": 50,
   "id": "87ecbb74",
   "metadata": {},
   "outputs": [],
   "source": [
    "#Afin de prédire la position du navire toute les 5 minutes\n",
    "period=5\n",
    "x,y_5,y_10,y_15 = [], [], [], []\n",
    "for mmsi, group in df.groupby('MMSI'):\n",
    "    #On récupère les données du navire\n",
    "    group = group.sort_values(by='BaseDateTime')\n",
    "    \n",
    "    for i in range(len(group) - period -15): #Pourquoi -15?\n",
    "    #On récupère les données de la période de 5 minutes\n",
    "        x_period = group.iloc[i:i + period-1][features].values #Pourquoi -1?\n",
    "        y_5_period = group.iloc[i+5][features].values\n",
    "        y_10_period = group.iloc[i+10][features].values\n",
    "        y_15_period = group.iloc[i+15][features].values\n",
    "        #On ajoute les valeurs à la liste globale\n",
    "        x.append(x_period)\n",
    "        y_5.append(y_5_period)\n",
    "        y_10.append(y_10_period)\n",
    "        y_15.append(y_15_period)\n",
    "\n",
    "x = np.array(x)\n",
    "y_5 = np.array(y_5)\n",
    "y_10 = np.array(y_10)\n",
    "y_15 = np.array(y_15)\n"
   ]
  }
 ],
 "metadata": {
  "kernelspec": {
   "display_name": "Python 3",
   "language": "python",
   "name": "python3"
  },
  "language_info": {
   "codemirror_mode": {
    "name": "ipython",
    "version": 3
   },
   "file_extension": ".py",
   "mimetype": "text/x-python",
   "name": "python",
   "nbconvert_exporter": "python",
   "pygments_lexer": "ipython3",
   "version": "3.12.3"
  }
 },
 "nbformat": 4,
 "nbformat_minor": 5
}
