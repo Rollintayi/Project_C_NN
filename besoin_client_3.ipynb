{
 "cells": [
  {
   "cell_type": "markdown",
   "id": "84262af5",
   "metadata": {},
   "source": [
    "1- Préparation des données"
   ]
  },
  {
   "cell_type": "code",
   "execution_count": 123,
   "id": "90a5343e",
   "metadata": {},
   "outputs": [
    {
     "name": "stdout",
     "output_type": "stream",
     "text": [
      "              id       MMSI         BaseDateTime       LAT       LON  SOG  \\\n",
      "86832    9067786  205776000  2023-05-25 00:07:27  25.95847 -97.37876  0.0   \n",
      "87074    9094320  205776000  2023-05-25 00:13:27  25.95846 -97.37880  0.0   \n",
      "87231    9113012  205776000  2023-05-25 00:16:27  25.95847 -97.37880  0.0   \n",
      "92057    9625845  205776000  2023-05-25 00:31:27  25.95848 -97.37879  0.0   \n",
      "88594    9261545  205776000  2023-05-25 00:34:27  25.95846 -97.37882  0.0   \n",
      "88237    9223310  205776000  2023-05-25 00:37:27  25.95848 -97.37882  0.0   \n",
      "88591    9261435  205776000  2023-05-25 00:40:27  25.95846 -97.37883  0.0   \n",
      "89174    9321671  205776000  2023-05-25 00:43:27  25.95849 -97.37879  0.0   \n",
      "89348    9340357  205776000  2023-05-25 00:46:27  25.95846 -97.37878  0.1   \n",
      "89095    9314767  205776000  2023-05-25 00:55:27  25.95842 -97.37880  0.0   \n",
      "89529    9359156  205776000  2023-05-25 01:01:27  25.95841 -97.37882  0.1   \n",
      "89476    9353676  205776000  2023-05-25 01:04:27  25.95846 -97.37879  0.1   \n",
      "89706    9376837  205776000  2023-05-25 01:07:27  25.95845 -97.37879  0.2   \n",
      "89815    9389320  205776000  2023-05-25 01:10:27  25.95845 -97.37881  0.0   \n",
      "90106    9422207  205776000  2023-05-25 01:13:27  25.95843 -97.37879  0.0   \n",
      "99234   10382090  205776000  2023-05-25 01:19:27  25.95845 -97.37878  0.1   \n",
      "90435    9456484  205776000  2023-05-25 01:22:27  25.95847 -97.37880  0.1   \n",
      "90631    9477296  205776000  2023-05-25 01:28:27  25.95845 -97.37885  0.1   \n",
      "91208    9538373  205776000  2023-05-25 01:31:27  25.95841 -97.37876  0.1   \n",
      "91089    9524383  205776000  2023-05-25 01:37:27  25.95844 -97.37877  0.1   \n",
      "91535    9570341  205776000  2023-05-25 01:43:27  25.95845 -97.37878  0.1   \n",
      "91495    9566146  205776000  2023-05-25 01:46:27  25.95845 -97.37881  0.1   \n",
      "103076  10797193  205776000  2023-05-25 01:49:27  25.95845 -97.37877  0.1   \n",
      "93637    9799597  205776000  2023-05-25 01:52:27  25.95843 -97.37878  0.1   \n",
      "92117    9631780  205776000  2023-05-25 01:55:27  25.95843 -97.37878  0.1   \n",
      "92263    9647602  205776000  2023-05-25 01:58:27  25.95847 -97.37878  0.1   \n",
      "94451    9886119  205776000  2023-05-25 02:01:27  25.95844 -97.37883  0.1   \n",
      "92516    9676207  205776000  2023-05-25 02:04:27  25.95847 -97.37880  0.1   \n",
      "105086  11015289  205776000  2023-05-25 02:07:27  25.95848 -97.37878  0.1   \n",
      "93042    9732788  205776000  2023-05-25 02:16:27  25.95845 -97.37880  0.0   \n",
      "\n",
      "          COG  Heading VesselName         IMO CallSign  VesselType  Status  \\\n",
      "86832     0.0        0    LA LUNA  IMO9846079     ONKC          70       5   \n",
      "87074     0.0        0    LA LUNA  IMO9846079     ONKC          70       5   \n",
      "87231     0.0        0    LA LUNA  IMO9846079     ONKC          70       5   \n",
      "92057     0.0        0    LA LUNA  IMO9846079     ONKC          70       5   \n",
      "88594     0.0        0    LA LUNA  IMO9846079     ONKC          70       5   \n",
      "88237     0.0        0    LA LUNA  IMO9846079     ONKC          70       5   \n",
      "88591     0.0        0    LA LUNA  IMO9846079     ONKC          70       5   \n",
      "89174     0.0        0    LA LUNA  IMO9846079     ONKC          70       5   \n",
      "89348   177.9      249    LA LUNA  IMO9846079     ONKC          70       5   \n",
      "89095     0.0        0    LA LUNA  IMO9846079     ONKC          70       5   \n",
      "89529    96.2      249    LA LUNA  IMO9846079     ONKC          70       5   \n",
      "89476   169.9      249    LA LUNA  IMO9846079     ONKC          70       5   \n",
      "89706   185.8      249    LA LUNA  IMO9846079     ONKC          70       5   \n",
      "89815     0.0        0    LA LUNA  IMO9846079     ONKC          70       5   \n",
      "90106     0.0        0    LA LUNA  IMO9846079     ONKC          70       5   \n",
      "99234   150.3      249    LA LUNA  IMO9846079     ONKC          70       5   \n",
      "90435   151.4      249    LA LUNA  IMO9846079     ONKC          70       5   \n",
      "90631   176.9      249    LA LUNA  IMO9846079     ONKC          70       5   \n",
      "91208   158.2      249    LA LUNA  IMO9846079     ONKC          70       5   \n",
      "91089   161.9      249    LA LUNA  IMO9846079     ONKC          70       5   \n",
      "91535   160.8      249    LA LUNA  IMO9846079     ONKC          70       5   \n",
      "91495   161.0      249    LA LUNA  IMO9846079     ONKC          70       5   \n",
      "103076  164.0      249    LA LUNA  IMO9846079     ONKC          70       5   \n",
      "93637   163.7      249    LA LUNA  IMO9846079     ONKC          70       5   \n",
      "92117   162.7      249    LA LUNA  IMO9846079     ONKC          70       5   \n",
      "92263   164.2      249    LA LUNA  IMO9846079     ONKC          70       5   \n",
      "94451   165.5      249    LA LUNA  IMO9846079     ONKC          70       5   \n",
      "92516   167.0      249    LA LUNA  IMO9846079     ONKC          70       5   \n",
      "105086  165.7      249    LA LUNA  IMO9846079     ONKC          70       5   \n",
      "93042     0.0        0    LA LUNA  IMO9846079     ONKC          70       5   \n",
      "\n",
      "        Length  Width  Draft  Cargo TransceiverClass  \n",
      "86832      200     32   11.8     70                A  \n",
      "87074      200     32   11.8     70                A  \n",
      "87231      200     32   11.8     70                A  \n",
      "92057      200     32   11.8     70                A  \n",
      "88594      200     32   11.8     70                A  \n",
      "88237      200     32   11.8     70                A  \n",
      "88591      200     32   11.8     70                A  \n",
      "89174      200     32   11.8     70                A  \n",
      "89348      200     32   11.8     70                A  \n",
      "89095      200     32   11.8     70                A  \n",
      "89529      200     32   11.8     70                A  \n",
      "89476      200     32   11.8     70                A  \n",
      "89706      200     32   11.8     70                A  \n",
      "89815      200     32   11.8     70                A  \n",
      "90106      200     32   11.8     70                A  \n",
      "99234      200     32   11.8     70                A  \n",
      "90435      200     32   11.8     70                A  \n",
      "90631      200     32   11.8     70                A  \n",
      "91208      200     32   11.8     70                A  \n",
      "91089      200     32   11.8     70                A  \n",
      "91535      200     32   11.8     70                A  \n",
      "91495      200     32   11.8     70                A  \n",
      "103076     200     32   11.8     70                A  \n",
      "93637      200     32   11.8     70                A  \n",
      "92117      200     32   11.8     70                A  \n",
      "92263      200     32   11.8     70                A  \n",
      "94451      200     32   11.8     70                A  \n",
      "92516      200     32   11.8     70                A  \n",
      "105086     200     32   11.8     70                A  \n",
      "93042      200     32   11.8     70                A  \n"
     ]
    }
   ],
   "source": [
    "import pandas as pd \n",
    "import numpy as np\n",
    " \n",
    "#chargement de la base de données\n",
    "df= pd.read_csv(\"C:/Users/wague/Downloads/projetia/Project_ISEN_Big_Data-IA-Web/clean_IA.csv\", parse_dates=['BaseDateTime'])\n",
    "#parse_dates permet de convertir la colonne BaseDateTime en format datetime\n",
    "\n",
    "#Tri des données par date et par MMSI\n",
    "df = df.sort_values(by=['MMSI','BaseDateTime'])\n",
    "\n",
    "#Variables importantes: LAT, LON, SOG, COG, Heading, Length, Draft\n",
    "#Variables dépendantes à prédire: LAT et LON\n",
    "targets = ['LAT', 'LON']\n",
    "#Variables explicatives: SOG, COG, Heading, potentiellement enrichi par: VesselType, Length, Draft\n",
    "features = ['LAT', 'LON','SOG', 'COG', 'Heading','Length', 'Draft']\n",
    "print(df.head(30))"
   ]
  },
  {
   "cell_type": "code",
   "execution_count": 109,
   "id": "87ecbb74",
   "metadata": {},
   "outputs": [],
   "source": [
    "#Afin de prédire la position du navire toutes les 5 minutes\n",
    "period=5\n",
    "x,y_5,y_10,y_15 = [], [], [], []\n",
    "for mmsi, group in df.groupby('MMSI'):\n",
    "    #On récupère les données du navire\n",
    "    group = group.sort_values(by='BaseDateTime')\n",
    "    \n",
    "    for i in range(len(group) - period -3):\n",
    "    #On récupère les données de la période de 5 minutes\n",
    "        x_period = group.iloc[i:i + 2][features].values \n",
    "        y_5_period = group.iloc[i+1][targets].values\n",
    "        y_10_period = group.iloc[i+2][targets].values\n",
    "        y_15_period = group.iloc[i+3][targets].values\n",
    "        #On ajoute les valeurs à la liste globale\n",
    "        x.append(x_period)\n",
    "        y_5.append(y_5_period)\n",
    "        y_10.append(y_10_period)\n",
    "        y_15.append(y_15_period)\n",
    "\n",
    "x = np.array(x)\n",
    "y_5 = np.array(y_5)\n",
    "y_10 = np.array(y_10)\n",
    "y_15 = np.array(y_15)\n"
   ]
  },
  {
   "cell_type": "markdown",
   "id": "337ab301",
   "metadata": {},
   "source": [
    "2- Apprentissage supervisé du modèle"
   ]
  },
  {
   "cell_type": "code",
   "execution_count": null,
   "id": "1986fc75",
   "metadata": {},
   "outputs": [],
   "source": [
    "from sklearn.model_selection import train_test_split\n",
    "from sklearn.ensemble import RandomForestRegressor\n",
    "from sklearn.metrics import mean_squared_error\n",
    "from sklearn.linear_model import LinearRegression\n",
    "from sklearn.tree import DecisionTreeRegressor\n",
    "from sklearn.multioutput import MultiOutputRegressor\n",
    "\n",
    "#On reshape les données pour qu'elles soient compatibles avec les modèles\n",
    "x = x.reshape(x.shape[0], -1)  # C'est sous le forme (n_ecahantillons, n_features)"
   ]
  },
  {
   "cell_type": "code",
   "execution_count": null,
   "id": "69ce93e1",
   "metadata": {},
   "outputs": [],
   "source": [
    "#Séparation en données d'entrainement (80%) et données de test (20%)\n",
    "\n",
    "x_train,x_test,y_5_train,y_5_test=train_test_split(x, y_5, test_size=0.2, random_state=42)\n",
    "x_train,x_test,y_10_train,y_10_test=train_test_split(x, y_10, test_size=0.2, random_state=42)\n",
    "x_train,x_test,y_15_train,y_15_test=train_test_split(x, y_15, test_size=0.2, random_state=42)"
   ]
  },
  {
   "cell_type": "code",
   "execution_count": 82,
   "id": "e01e19f1",
   "metadata": {},
   "outputs": [],
   "source": [
    "y_all = np.hstack([y_5_train, y_10_train, y_15_train]) \n",
    "model1=RandomForestRegressor().fit(x_train, y_all) "
   ]
  },
  {
   "cell_type": "code",
   "execution_count": null,
   "id": "3ee75c62",
   "metadata": {},
   "outputs": [],
   "source": [
    "#Entrainement de différents modèles avec y_5 \n",
    "model1=RandomForestRegressor().fit(x_train, y_5_train) \n",
    "model2=MultiOutputRegressor(RandomForestRegressor()).fit(x_train, y_5_train)\n",
    "model3=DecisionTreeRegressor().fit(x_train, y_5_train) \n",
    "model4=LinearRegression().fit(x_train, y_5_train)\n",
    "\n",
    "#Prédiction des données de test avec les modèles entrainés\n",
    "y_5_pred1 = model1.predict(x_test)\n",
    "y_5_pred2 = model2.predict(x_test) \n",
    "y_5_pred3 = model3.predict(x_test)\n",
    "y_5_pred4 = model4.predict(x_test)\n",
    "#Peut etre afficher aussi le temps d'apprentissage de chaque modèle"
   ]
  },
  {
   "cell_type": "code",
   "execution_count": 100,
   "id": "56acd510",
   "metadata": {},
   "outputs": [
    {
     "name": "stdout",
     "output_type": "stream",
     "text": [
      "Root Mean Squared Error pour Random Forest: 0.004790157245282562\n",
      "Root Mean Squared Error pour Random Forest Multiple Output: 0.012133151963541526\n",
      "Root Mean Squared Error pour Decision Tree: 0.006472452322404998\n",
      "Root Mean Squared Error pour Linear Regression: 2.4151419090324252e-14\n"
     ]
    }
   ],
   "source": [
    "#Evaluation des modèles sur les données d'apprentissage\n",
    "mse_5_1 = mean_squared_error(y_5_test, y_5_pred1)\n",
    "mse_5_2 = mean_squared_error(y_5_test, y_5_pred2)\n",
    "mse_5_3 = mean_squared_error(y_5_test, y_5_pred3)\n",
    "mse_5_4 = mean_squared_error(y_5_test, y_5_pred4)\n",
    "\n",
    "\n",
    "rmse_5_1 = np.sqrt(mse_5_1) \n",
    "rmse_5_2 = np.sqrt(mse_5_2)\n",
    "rmse_5_3 = np.sqrt(mse_5_3)\n",
    "rmse_5_4 = np.sqrt(mse_5_4)\n",
    "# Affichage des résultats\n",
    "print(f\"Root Mean Squared Error pour Random Forest: {rmse_5_1}\")\n",
    "print(f\"Root Mean Squared Error pour Random Forest Multiple Output: {rmse_5_2}\")\n",
    "print(f\"Root Mean Squared Error pour Decision Tree: {rmse_5_3}\")\n",
    "print(f\"Root Mean Squared Error pour Linear Regression: {rmse_5_4}\")"
   ]
  },
  {
   "cell_type": "markdown",
   "id": "cf99f1cc",
   "metadata": {},
   "source": [
    "Random Forest  semble etre le modèle de regression le plus performant car la somme des erreurs résiduelles est nulle. Afin de confirmer cette remarque, on va tester la généralisation"
   ]
  },
  {
   "cell_type": "code",
   "execution_count": 108,
   "id": "00732b63",
   "metadata": {},
   "outputs": [
    {
     "name": "stdout",
     "output_type": "stream",
     "text": [
      "Pour le Random Forest: 0.0074527720629739376\n",
      "Pour le Multiple Regressor: 0.022481851682332018\n",
      "Pour le Decision Tree: 0.022481851682332018\n",
      "Pour le Linear Regression: 0.011901803120324742\n"
     ]
    }
   ],
   "source": [
    "#Evaluation des modèles sur les données de test\n",
    "#Avec la validation croisée\n",
    "from sklearn.model_selection import cross_val_score\n",
    "from math import sqrt\n",
    "from statistics import mean\n",
    "#Model 1\n",
    "scores1 = cross_val_score(model1, x_train, y_5_train, cv=5, scoring='neg_mean_squared_error')\n",
    "RMSE_1=[sqrt(-x) for x in scores1]  #??On prend la racine carrée de la valeur négative pour obtenir le RMSE\n",
    "print(\"Pour le Random Forest:\", mean(RMSE_1))\n",
    "#Model 2\n",
    "scores2 = cross_val_score(model2, x_train, y_5_train, cv=5, scoring='neg_mean_squared_error')\n",
    "RMSE_2=[sqrt(-x) for x in scores2]  #??On prend la racine carrée de la valeur négative pour obtenir le RMSE\n",
    "print(\"Pour le Multiple Regressor:\", mean(RMSE_2))\n",
    "#Model 3\n",
    "scores3 = cross_val_score(model3, x_train, y_5_train, cv=5, scoring='neg_mean_squared_error')\n",
    "RMSE_3=[sqrt(-x) for x in scores2]\n",
    "print(\"Pour le Decision Tree:\", mean(RMSE_3))\n",
    "#Model 4\n",
    "scores4 = cross_val_score(model4, x_train, y_5_train, cv=5, scoring='neg_mean_squared_error')\n",
    "RMSE_4=[sqrt(-x) for x in scores3] \n",
    "print(\"Pour le Linear Regression:\", mean(RMSE_4))\n"
   ]
  },
  {
   "cell_type": "markdown",
   "id": "d82a87d4",
   "metadata": {},
   "source": [
    "Nous allons utiliser Random Forest"
   ]
  },
  {
   "cell_type": "code",
   "execution_count": 116,
   "id": "931ba0e4",
   "metadata": {},
   "outputs": [],
   "source": [
    "#Entrainement de Random Forest avec y_10\n",
    "model1_10=RandomForestRegressor().fit(x_train, y_10_train) \n",
    "y_10_pred1= model1_10.predict(x_test)\n",
    "#Entrainement de Random Forest avec y_15\n",
    "model1_15=RandomForestRegressor().fit(x_train, y_15_train) \n",
    "y_15_pred1= model1_15.predict(x_test)"
   ]
  },
  {
   "cell_type": "markdown",
   "id": "32a762e5",
   "metadata": {},
   "source": [
    "Evaluation de la précision"
   ]
  },
  {
   "cell_type": "code",
   "execution_count": 117,
   "id": "1ab862b8",
   "metadata": {},
   "outputs": [
    {
     "name": "stdout",
     "output_type": "stream",
     "text": [
      "R² Latitude  : 1.000\n",
      "R² Longitude : 1.000\n"
     ]
    }
   ],
   "source": [
    "from sklearn.metrics import r2_score\n",
    "\n",
    "R2_lat = r2_score(y_5_test, y_5_pred1)  # Pour la latitude\n",
    "R2_lon = r2_score(y_5_test, y_5_pred1)  # Pour la longitude\n",
    "\n",
    "print(f\"R² Latitude  : {r2_lat:.3f}\")\n",
    "print(f\"R² Longitude : {r2_lon:.3f}\")"
   ]
  },
  {
   "cell_type": "markdown",
   "id": "9aca76c7",
   "metadata": {},
   "source": [
    "R²=1, ça veut dire que la prédiction est parfaite"
   ]
  },
  {
   "cell_type": "markdown",
   "id": "e5e4d825",
   "metadata": {},
   "source": [
    "3- Enregistrement du modèle"
   ]
  },
  {
   "cell_type": "code",
   "execution_count": 118,
   "id": "8c4b7b28",
   "metadata": {},
   "outputs": [
    {
     "data": {
      "text/plain": [
       "['model_15.pkl']"
      ]
     },
     "execution_count": 118,
     "metadata": {},
     "output_type": "execute_result"
    }
   ],
   "source": [
    "import joblib\n",
    "#Enregistrement du modèle\n",
    "joblib.dump(model1, 'model_5.pkl')\n",
    "joblib.dump(model1_10, 'model_10.pkl')\n",
    "joblib.dump(model1_15, 'model_15.pkl')"
   ]
  },
  {
   "cell_type": "code",
   "execution_count": null,
   "id": "b769dfeb",
   "metadata": {},
   "outputs": [],
   "source": []
  }
 ],
 "metadata": {
  "kernelspec": {
   "display_name": "Python 3",
   "language": "python",
   "name": "python3"
  },
  "language_info": {
   "codemirror_mode": {
    "name": "ipython",
    "version": 3
   },
   "file_extension": ".py",
   "mimetype": "text/x-python",
   "name": "python",
   "nbconvert_exporter": "python",
   "pygments_lexer": "ipython3",
   "version": "3.12.3"
  }
 },
 "nbformat": 4,
 "nbformat_minor": 5
}
