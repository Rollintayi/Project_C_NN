{
 "cells": [
  {
   "cell_type": "code",
   "execution_count": null,
   "id": "98e8391f",
   "metadata": {
    "vscode": {
     "languageId": "plaintext"
    }
   },
   "outputs": [],
   "source": [
    "import pandas as pd\n",
    "import matplotlib.pyplot as plt\n",
    "\n",
    "# 1. Charger le fichier CSV\n",
    "df = pd.read_csv(\"C:\\Users\\megan\\OneDrive\\Documents\\BBB\\export_clean_IA.csv\")\n",
    "\n",
    "# 2. Créer la variable 'Target' en catégorisant 'VesselType'\n",
    "def map_vessel_type(vessel_type):\n",
    "    if 60 <= vessel_type <= 69:\n",
    "        return \"Passenger\"\n",
    "    elif 70 <= vessel_type <= 79:\n",
    "        return \"Cargo\"\n",
    "    elif 80 <= vessel_type <= 89:\n",
    "        return \"Tanker\"\n",
    "    else:\n",
    "        return \"Other\"\n",
    "\n",
    "df['Target'] = df['VesselType'].apply(map_vessel_type)\n",
    "\n",
    "# 3. Garder un seul enregistrement par bateau (MMSI)\n",
    "df_unique = df.drop_duplicates(subset='MMSI')\n",
    "\n",
    "# 4. Compter les types de bateaux uniques\n",
    "counts = df_unique['Target'].value_counts()\n",
    "\n",
    "# 5. Visualisation\n",
    "plt.figure(figsize=(8, 5))\n",
    "counts.plot(kind='bar', color=['steelblue', 'darkorange', 'seagreen', 'gray'])\n",
    "plt.title(\"Nombre de bateaux uniques par type\")\n",
    "plt.xlabel(\"Type de bateau\")\n",
    "plt.ylabel(\"Nombre de bateaux (uniques)\")\n",
    "plt.xticks(rotation=0)\n",
    "plt.grid(axis='y', linestyle='--', alpha=0.7)\n",
    "plt.tight_layout()\n",
    "plt.show()\n"
   ]
  }
 ],
 "metadata": {
  "language_info": {
   "name": "python"
  }
 },
 "nbformat": 4,
 "nbformat_minor": 5
}
