{
 "cells": [
  {
   "cell_type": "code",
   "execution_count": 14,
   "id": "303c676e",
   "metadata": {},
   "outputs": [
    {
     "name": "stdout",
     "output_type": "stream",
     "text": [
      "         SOG    COG  Heading       MMSI         BaseDateTime       LON  \\\n",
      "0       13.4  227.6      227  636017833  2023-05-29 00:00:06 -89.29958   \n",
      "1        0.0    0.0        0  367477280  2023-05-29 00:00:06 -89.97235   \n",
      "2        7.1   51.4      511  368112000  2023-05-29 00:00:10 -92.20613   \n",
      "3        0.0    0.0        0  366954420  2023-05-29 00:00:10 -82.63027   \n",
      "4       11.3  333.1      511  367151450           2023-05-29 -94.77660   \n",
      "...      ...    ...      ...        ...                  ...       ...   \n",
      "289406   0.0    0.0        0  368112000  2023-05-31 23:59:49 -92.30455   \n",
      "289407   1.0  343.4       92  563759000  2023-05-31 23:58:27 -94.48691   \n",
      "289408   0.0    0.0        0  367461130  2023-05-31 23:53:21 -91.09841   \n",
      "289409   4.2  228.8      225  563326000  2023-05-31 23:56:30 -94.40605   \n",
      "289410  13.0  245.6      245  564329000  2023-05-31 23:58:52 -94.12511   \n",
      "\n",
      "             LAT  \n",
      "0       29.07019  \n",
      "1       29.25456  \n",
      "2       29.75368  \n",
      "3       27.77637  \n",
      "4       29.33010  \n",
      "...          ...  \n",
      "289406  29.55408  \n",
      "289407  28.84956  \n",
      "289408  29.69112  \n",
      "289409  29.19883  \n",
      "289410  28.60688  \n",
      "\n",
      "[289411 rows x 7 columns]\n"
     ]
    }
   ],
   "source": [
    "import pandas as pd\n",
    "import sklearn\n",
    "import plotly\n",
    "data = pd.read_csv(r'C:\\Users\\hp\\OneDrive - yncréa\\Documents\\One Drive - Uchiwa\\OneDrive\\Desktop\\Cours ISEN\\Projet_BigData\\Fonctionnalite_number_2\\export_clean_IA.csv')\n",
    "map_data = data[['SOG','COG','Heading','MMSI', 'BaseDateTime', 'LON', 'LAT']]\n",
    "print(map_data)"
   ]
  }
 ],
 "metadata": {
  "kernelspec": {
   "display_name": ".venv",
   "language": "python",
   "name": "python3"
  },
  "language_info": {
   "codemirror_mode": {
    "name": "ipython",
    "version": 3
   },
   "file_extension": ".py",
   "mimetype": "text/x-python",
   "name": "python",
   "nbconvert_exporter": "python",
   "pygments_lexer": "ipython3",
   "version": "3.7.3"
  }
 },
 "nbformat": 4,
 "nbformat_minor": 5
}
